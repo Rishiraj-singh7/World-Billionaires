{
 "cells": [
  {
   "cell_type": "markdown",
   "metadata": {},
   "source": [
    "INSIGHT OF THE BILLIONAIRES IN THE WORLD"
   ]
  },
  {
   "cell_type": "code",
   "execution_count": 1,
   "metadata": {},
   "outputs": [],
   "source": [
    "# This project aims at giving more insights on all billionaires in the world.\n",
    "# The data for this project was gotten from www.kaggle.com\n",
    "# Importing the required libraries"
   ]
  },
  {
   "cell_type": "code",
   "execution_count": 2,
   "metadata": {},
   "outputs": [],
   "source": [
    "import pandas as pd # library for data manipulation\n",
    "import matplotlib.pyplot as plt # library for visualization\n",
    "import numpy as np\n",
    "import seaborn as sns # library for visualization\n",
    "sns.set() # this command sets the seaborn chart style as the default"
   ]
  },
  {
   "cell_type": "markdown",
   "metadata": {},
   "source": [
    "Reading Data"
   ]
  },
  {
   "cell_type": "code",
   "execution_count": 3,
   "metadata": {},
   "outputs": [],
   "source": [
    "Billionaires_data = pd.read_csv('forbes_billionaires_geo.csv')"
   ]
  },
  {
   "cell_type": "markdown",
   "metadata": {},
   "source": [
    "Displaying the first five rows of the dataset\n"
   ]
  },
  {
   "cell_type": "code",
   "execution_count": 4,
   "metadata": {},
   "outputs": [
    {
     "data": {
      "text/html": [
       "<div>\n",
       "<style scoped>\n",
       "    .dataframe tbody tr th:only-of-type {\n",
       "        vertical-align: middle;\n",
       "    }\n",
       "\n",
       "    .dataframe tbody tr th {\n",
       "        vertical-align: top;\n",
       "    }\n",
       "\n",
       "    .dataframe thead th {\n",
       "        text-align: right;\n",
       "    }\n",
       "</style>\n",
       "<table border=\"1\" class=\"dataframe\">\n",
       "  <thead>\n",
       "    <tr style=\"text-align: right;\">\n",
       "      <th></th>\n",
       "      <th>Name</th>\n",
       "      <th>NetWorth</th>\n",
       "      <th>Country</th>\n",
       "      <th>Source</th>\n",
       "      <th>Rank</th>\n",
       "      <th>Age</th>\n",
       "      <th>Residence</th>\n",
       "      <th>Citizenship</th>\n",
       "      <th>Status</th>\n",
       "      <th>Children</th>\n",
       "      <th>Education</th>\n",
       "      <th>Self_made</th>\n",
       "      <th>geometry</th>\n",
       "    </tr>\n",
       "  </thead>\n",
       "  <tbody>\n",
       "    <tr>\n",
       "      <th>0</th>\n",
       "      <td>Jeff Bezos</td>\n",
       "      <td>177.0</td>\n",
       "      <td>United States</td>\n",
       "      <td>Amazon</td>\n",
       "      <td>1</td>\n",
       "      <td>57.0</td>\n",
       "      <td>Seattle, Washington</td>\n",
       "      <td>United States</td>\n",
       "      <td>In Relationship</td>\n",
       "      <td>4.0</td>\n",
       "      <td>Bachelor of Arts/Science, Princeton University</td>\n",
       "      <td>True</td>\n",
       "      <td>POINT (-122.3300624 47.6038321)</td>\n",
       "    </tr>\n",
       "    <tr>\n",
       "      <th>1</th>\n",
       "      <td>Elon Musk</td>\n",
       "      <td>151.0</td>\n",
       "      <td>United States</td>\n",
       "      <td>Tesla, SpaceX</td>\n",
       "      <td>2</td>\n",
       "      <td>49.0</td>\n",
       "      <td>Austin, Texas</td>\n",
       "      <td>United States</td>\n",
       "      <td>In Relationship</td>\n",
       "      <td>7.0</td>\n",
       "      <td>Bachelor of Arts/Science, University of Pennsy...</td>\n",
       "      <td>True</td>\n",
       "      <td>POINT (-97.74369950000001 30.2711286)</td>\n",
       "    </tr>\n",
       "    <tr>\n",
       "      <th>2</th>\n",
       "      <td>Bernard Arnault &amp; family</td>\n",
       "      <td>150.0</td>\n",
       "      <td>France</td>\n",
       "      <td>LVMH</td>\n",
       "      <td>3</td>\n",
       "      <td>72.0</td>\n",
       "      <td>Paris, France</td>\n",
       "      <td>France</td>\n",
       "      <td>Married</td>\n",
       "      <td>5.0</td>\n",
       "      <td>Bachelor of Arts/Science, Ecole Polytechnique ...</td>\n",
       "      <td>False</td>\n",
       "      <td>POINT (2.3514616 48.8566969)</td>\n",
       "    </tr>\n",
       "    <tr>\n",
       "      <th>3</th>\n",
       "      <td>Bill Gates</td>\n",
       "      <td>124.0</td>\n",
       "      <td>United States</td>\n",
       "      <td>Microsoft</td>\n",
       "      <td>4</td>\n",
       "      <td>65.0</td>\n",
       "      <td>Medina, Washington</td>\n",
       "      <td>United States</td>\n",
       "      <td>Divorced</td>\n",
       "      <td>3.0</td>\n",
       "      <td>Drop Out, Harvard University</td>\n",
       "      <td>True</td>\n",
       "      <td>POINT (-122.2264453 47.620548)</td>\n",
       "    </tr>\n",
       "    <tr>\n",
       "      <th>4</th>\n",
       "      <td>Mark Zuckerberg</td>\n",
       "      <td>97.0</td>\n",
       "      <td>United States</td>\n",
       "      <td>Facebook</td>\n",
       "      <td>5</td>\n",
       "      <td>36.0</td>\n",
       "      <td>Palo Alto, California</td>\n",
       "      <td>United States</td>\n",
       "      <td>Married</td>\n",
       "      <td>2.0</td>\n",
       "      <td>Drop Out, Harvard University</td>\n",
       "      <td>True</td>\n",
       "      <td>POINT (-122.1598465 37.4443293)</td>\n",
       "    </tr>\n",
       "  </tbody>\n",
       "</table>\n",
       "</div>"
      ],
      "text/plain": [
       "                       Name  NetWorth        Country         Source  Rank  \\\n",
       "0                Jeff Bezos     177.0  United States         Amazon     1   \n",
       "1                 Elon Musk     151.0  United States  Tesla, SpaceX     2   \n",
       "2  Bernard Arnault & family     150.0         France           LVMH     3   \n",
       "3                Bill Gates     124.0  United States      Microsoft     4   \n",
       "4           Mark Zuckerberg      97.0  United States       Facebook     5   \n",
       "\n",
       "    Age              Residence    Citizenship           Status  Children  \\\n",
       "0  57.0    Seattle, Washington  United States  In Relationship       4.0   \n",
       "1  49.0          Austin, Texas  United States  In Relationship       7.0   \n",
       "2  72.0          Paris, France         France          Married       5.0   \n",
       "3  65.0     Medina, Washington  United States         Divorced       3.0   \n",
       "4  36.0  Palo Alto, California  United States          Married       2.0   \n",
       "\n",
       "                                           Education Self_made  \\\n",
       "0     Bachelor of Arts/Science, Princeton University      True   \n",
       "1  Bachelor of Arts/Science, University of Pennsy...      True   \n",
       "2  Bachelor of Arts/Science, Ecole Polytechnique ...     False   \n",
       "3                       Drop Out, Harvard University      True   \n",
       "4                       Drop Out, Harvard University      True   \n",
       "\n",
       "                                geometry  \n",
       "0        POINT (-122.3300624 47.6038321)  \n",
       "1  POINT (-97.74369950000001 30.2711286)  \n",
       "2           POINT (2.3514616 48.8566969)  \n",
       "3         POINT (-122.2264453 47.620548)  \n",
       "4        POINT (-122.1598465 37.4443293)  "
      ]
     },
     "execution_count": 4,
     "metadata": {},
     "output_type": "execute_result"
    }
   ],
   "source": [
    "Billionaires_data.head()"
   ]
  },
  {
   "cell_type": "markdown",
   "metadata": {},
   "source": [
    "Legend of the features of this data set:\n",
    "\n"
   ]
  },
  {
   "cell_type": "code",
   "execution_count": 5,
   "metadata": {},
   "outputs": [],
   "source": [
    "# Name: the name and surname of the billionaires;\n",
    "# Networth: the networth in billions dollars;\n",
    "# Country: the country in which they were born;\n",
    "# Source: the source of wealth;\n",
    "# Rank: theposition in forbes list;\n",
    "# Age: their age;\n",
    "# Residence: the city in which they reside\n",
    "# Citizenship: the citizenship they posses;\n",
    "# Status: Their marital status;\n",
    "# Children: the number of children they have;\n",
    "# Education: the name of school/university they attended;\n",
    "# Self_made: if they are self made or not."
   ]
  },
  {
   "cell_type": "code",
   "execution_count": 6,
   "metadata": {},
   "outputs": [
    {
     "data": {
      "text/html": [
       "<div>\n",
       "<style scoped>\n",
       "    .dataframe tbody tr th:only-of-type {\n",
       "        vertical-align: middle;\n",
       "    }\n",
       "\n",
       "    .dataframe tbody tr th {\n",
       "        vertical-align: top;\n",
       "    }\n",
       "\n",
       "    .dataframe thead th {\n",
       "        text-align: right;\n",
       "    }\n",
       "</style>\n",
       "<table border=\"1\" class=\"dataframe\">\n",
       "  <thead>\n",
       "    <tr style=\"text-align: right;\">\n",
       "      <th></th>\n",
       "      <th>NetWorth</th>\n",
       "      <th>Rank</th>\n",
       "      <th>Age</th>\n",
       "      <th>Children</th>\n",
       "    </tr>\n",
       "  </thead>\n",
       "  <tbody>\n",
       "    <tr>\n",
       "      <th>count</th>\n",
       "      <td>2755.000000</td>\n",
       "      <td>2755.000000</td>\n",
       "      <td>2630.00000</td>\n",
       "      <td>1552.000000</td>\n",
       "    </tr>\n",
       "    <tr>\n",
       "      <th>mean</th>\n",
       "      <td>4.749220</td>\n",
       "      <td>1345.663521</td>\n",
       "      <td>63.26730</td>\n",
       "      <td>2.978093</td>\n",
       "    </tr>\n",
       "    <tr>\n",
       "      <th>std</th>\n",
       "      <td>9.615358</td>\n",
       "      <td>772.669811</td>\n",
       "      <td>13.47916</td>\n",
       "      <td>1.618569</td>\n",
       "    </tr>\n",
       "    <tr>\n",
       "      <th>min</th>\n",
       "      <td>1.000000</td>\n",
       "      <td>1.000000</td>\n",
       "      <td>18.00000</td>\n",
       "      <td>1.000000</td>\n",
       "    </tr>\n",
       "    <tr>\n",
       "      <th>25%</th>\n",
       "      <td>1.500000</td>\n",
       "      <td>680.000000</td>\n",
       "      <td>54.00000</td>\n",
       "      <td>2.000000</td>\n",
       "    </tr>\n",
       "    <tr>\n",
       "      <th>50%</th>\n",
       "      <td>2.300000</td>\n",
       "      <td>1362.000000</td>\n",
       "      <td>63.00000</td>\n",
       "      <td>3.000000</td>\n",
       "    </tr>\n",
       "    <tr>\n",
       "      <th>75%</th>\n",
       "      <td>4.200000</td>\n",
       "      <td>2035.000000</td>\n",
       "      <td>73.00000</td>\n",
       "      <td>4.000000</td>\n",
       "    </tr>\n",
       "    <tr>\n",
       "      <th>max</th>\n",
       "      <td>177.000000</td>\n",
       "      <td>2674.000000</td>\n",
       "      <td>99.00000</td>\n",
       "      <td>23.000000</td>\n",
       "    </tr>\n",
       "  </tbody>\n",
       "</table>\n",
       "</div>"
      ],
      "text/plain": [
       "          NetWorth         Rank         Age     Children\n",
       "count  2755.000000  2755.000000  2630.00000  1552.000000\n",
       "mean      4.749220  1345.663521    63.26730     2.978093\n",
       "std       9.615358   772.669811    13.47916     1.618569\n",
       "min       1.000000     1.000000    18.00000     1.000000\n",
       "25%       1.500000   680.000000    54.00000     2.000000\n",
       "50%       2.300000  1362.000000    63.00000     3.000000\n",
       "75%       4.200000  2035.000000    73.00000     4.000000\n",
       "max     177.000000  2674.000000    99.00000    23.000000"
      ]
     },
     "execution_count": 6,
     "metadata": {},
     "output_type": "execute_result"
    }
   ],
   "source": [
    "# Get summary of numerical variables\n",
    "Billionaires_data.describe()"
   ]
  },
  {
   "cell_type": "code",
   "execution_count": 7,
   "metadata": {},
   "outputs": [
    {
     "data": {
      "text/html": [
       "<div>\n",
       "<style scoped>\n",
       "    .dataframe tbody tr th:only-of-type {\n",
       "        vertical-align: middle;\n",
       "    }\n",
       "\n",
       "    .dataframe tbody tr th {\n",
       "        vertical-align: top;\n",
       "    }\n",
       "\n",
       "    .dataframe thead th {\n",
       "        text-align: right;\n",
       "    }\n",
       "</style>\n",
       "<table border=\"1\" class=\"dataframe\">\n",
       "  <thead>\n",
       "    <tr style=\"text-align: right;\">\n",
       "      <th></th>\n",
       "      <th>Name</th>\n",
       "      <th>NetWorth</th>\n",
       "      <th>Country</th>\n",
       "      <th>Source</th>\n",
       "      <th>Rank</th>\n",
       "      <th>Age</th>\n",
       "      <th>Residence</th>\n",
       "      <th>Citizenship</th>\n",
       "      <th>Status</th>\n",
       "      <th>Children</th>\n",
       "      <th>Education</th>\n",
       "      <th>Self_made</th>\n",
       "      <th>geometry</th>\n",
       "    </tr>\n",
       "  </thead>\n",
       "  <tbody>\n",
       "    <tr>\n",
       "      <th>0</th>\n",
       "      <td>Jeff Bezos</td>\n",
       "      <td>177.0</td>\n",
       "      <td>United States</td>\n",
       "      <td>Amazon</td>\n",
       "      <td>1</td>\n",
       "      <td>57.0</td>\n",
       "      <td>Seattle, Washington</td>\n",
       "      <td>United States</td>\n",
       "      <td>In Relationship</td>\n",
       "      <td>4.0</td>\n",
       "      <td>Bachelor of Arts/Science, Princeton University</td>\n",
       "      <td>True</td>\n",
       "      <td>POINT (-122.3300624 47.6038321)</td>\n",
       "    </tr>\n",
       "    <tr>\n",
       "      <th>1</th>\n",
       "      <td>Elon Musk</td>\n",
       "      <td>151.0</td>\n",
       "      <td>United States</td>\n",
       "      <td>Tesla, SpaceX</td>\n",
       "      <td>2</td>\n",
       "      <td>49.0</td>\n",
       "      <td>Austin, Texas</td>\n",
       "      <td>United States</td>\n",
       "      <td>In Relationship</td>\n",
       "      <td>7.0</td>\n",
       "      <td>Bachelor of Arts/Science, University of Pennsy...</td>\n",
       "      <td>True</td>\n",
       "      <td>POINT (-97.74369950000001 30.2711286)</td>\n",
       "    </tr>\n",
       "    <tr>\n",
       "      <th>2</th>\n",
       "      <td>Bernard Arnault &amp; family</td>\n",
       "      <td>150.0</td>\n",
       "      <td>France</td>\n",
       "      <td>LVMH</td>\n",
       "      <td>3</td>\n",
       "      <td>72.0</td>\n",
       "      <td>Paris, France</td>\n",
       "      <td>France</td>\n",
       "      <td>Married</td>\n",
       "      <td>5.0</td>\n",
       "      <td>Bachelor of Arts/Science, Ecole Polytechnique ...</td>\n",
       "      <td>False</td>\n",
       "      <td>POINT (2.3514616 48.8566969)</td>\n",
       "    </tr>\n",
       "    <tr>\n",
       "      <th>3</th>\n",
       "      <td>Bill Gates</td>\n",
       "      <td>124.0</td>\n",
       "      <td>United States</td>\n",
       "      <td>Microsoft</td>\n",
       "      <td>4</td>\n",
       "      <td>65.0</td>\n",
       "      <td>Medina, Washington</td>\n",
       "      <td>United States</td>\n",
       "      <td>Divorced</td>\n",
       "      <td>3.0</td>\n",
       "      <td>Drop Out, Harvard University</td>\n",
       "      <td>True</td>\n",
       "      <td>POINT (-122.2264453 47.620548)</td>\n",
       "    </tr>\n",
       "    <tr>\n",
       "      <th>4</th>\n",
       "      <td>Mark Zuckerberg</td>\n",
       "      <td>97.0</td>\n",
       "      <td>United States</td>\n",
       "      <td>Facebook</td>\n",
       "      <td>5</td>\n",
       "      <td>36.0</td>\n",
       "      <td>Palo Alto, California</td>\n",
       "      <td>United States</td>\n",
       "      <td>Married</td>\n",
       "      <td>2.0</td>\n",
       "      <td>Drop Out, Harvard University</td>\n",
       "      <td>True</td>\n",
       "      <td>POINT (-122.1598465 37.4443293)</td>\n",
       "    </tr>\n",
       "    <tr>\n",
       "      <th>...</th>\n",
       "      <td>...</td>\n",
       "      <td>...</td>\n",
       "      <td>...</td>\n",
       "      <td>...</td>\n",
       "      <td>...</td>\n",
       "      <td>...</td>\n",
       "      <td>...</td>\n",
       "      <td>...</td>\n",
       "      <td>...</td>\n",
       "      <td>...</td>\n",
       "      <td>...</td>\n",
       "      <td>...</td>\n",
       "      <td>...</td>\n",
       "    </tr>\n",
       "    <tr>\n",
       "      <th>2750</th>\n",
       "      <td>Daniel Yong Zhang</td>\n",
       "      <td>1.0</td>\n",
       "      <td>China</td>\n",
       "      <td>e-commerce</td>\n",
       "      <td>2674</td>\n",
       "      <td>49.0</td>\n",
       "      <td>Hangzhou, China</td>\n",
       "      <td>China</td>\n",
       "      <td>NaN</td>\n",
       "      <td>NaN</td>\n",
       "      <td>NaN</td>\n",
       "      <td>True</td>\n",
       "      <td>POINT (120.2052342 30.2489634)</td>\n",
       "    </tr>\n",
       "    <tr>\n",
       "      <th>2751</th>\n",
       "      <td>Zhang Yuqiang</td>\n",
       "      <td>1.0</td>\n",
       "      <td>China</td>\n",
       "      <td>Fiberglass</td>\n",
       "      <td>2674</td>\n",
       "      <td>65.0</td>\n",
       "      <td>Tongxiang, China</td>\n",
       "      <td>China</td>\n",
       "      <td>NaN</td>\n",
       "      <td>NaN</td>\n",
       "      <td>NaN</td>\n",
       "      <td>True</td>\n",
       "      <td>POINT (120.5610365 30.6316971)</td>\n",
       "    </tr>\n",
       "    <tr>\n",
       "      <th>2752</th>\n",
       "      <td>Zhao Meiguang</td>\n",
       "      <td>1.0</td>\n",
       "      <td>China</td>\n",
       "      <td>gold mining</td>\n",
       "      <td>2674</td>\n",
       "      <td>58.0</td>\n",
       "      <td>Jilin, China</td>\n",
       "      <td>China</td>\n",
       "      <td>NaN</td>\n",
       "      <td>NaN</td>\n",
       "      <td>NaN</td>\n",
       "      <td>True</td>\n",
       "      <td>POINT (125.9816054 42.9995032)</td>\n",
       "    </tr>\n",
       "    <tr>\n",
       "      <th>2753</th>\n",
       "      <td>Zhong Naixiong</td>\n",
       "      <td>1.0</td>\n",
       "      <td>China</td>\n",
       "      <td>conglomerate</td>\n",
       "      <td>2674</td>\n",
       "      <td>58.0</td>\n",
       "      <td>Foshan, China</td>\n",
       "      <td>China</td>\n",
       "      <td>NaN</td>\n",
       "      <td>NaN</td>\n",
       "      <td>NaN</td>\n",
       "      <td>True</td>\n",
       "      <td>POINT (113.1146335 23.0247687)</td>\n",
       "    </tr>\n",
       "    <tr>\n",
       "      <th>2754</th>\n",
       "      <td>Zhou Wei family</td>\n",
       "      <td>1.0</td>\n",
       "      <td>China</td>\n",
       "      <td>Software</td>\n",
       "      <td>2674</td>\n",
       "      <td>54.0</td>\n",
       "      <td>Shanghai, China</td>\n",
       "      <td>China</td>\n",
       "      <td>Married</td>\n",
       "      <td>NaN</td>\n",
       "      <td>NaN</td>\n",
       "      <td>True</td>\n",
       "      <td>POINT (121.4692071 31.2322758)</td>\n",
       "    </tr>\n",
       "  </tbody>\n",
       "</table>\n",
       "<p>2755 rows × 13 columns</p>\n",
       "</div>"
      ],
      "text/plain": [
       "                          Name  NetWorth        Country         Source  Rank  \\\n",
       "0                   Jeff Bezos     177.0  United States         Amazon     1   \n",
       "1                    Elon Musk     151.0  United States  Tesla, SpaceX     2   \n",
       "2     Bernard Arnault & family     150.0         France           LVMH     3   \n",
       "3                   Bill Gates     124.0  United States      Microsoft     4   \n",
       "4              Mark Zuckerberg      97.0  United States       Facebook     5   \n",
       "...                        ...       ...            ...            ...   ...   \n",
       "2750         Daniel Yong Zhang       1.0          China     e-commerce  2674   \n",
       "2751             Zhang Yuqiang       1.0          China     Fiberglass  2674   \n",
       "2752             Zhao Meiguang       1.0          China    gold mining  2674   \n",
       "2753            Zhong Naixiong       1.0          China   conglomerate  2674   \n",
       "2754           Zhou Wei family       1.0          China       Software  2674   \n",
       "\n",
       "       Age              Residence    Citizenship           Status  Children  \\\n",
       "0     57.0    Seattle, Washington  United States  In Relationship       4.0   \n",
       "1     49.0          Austin, Texas  United States  In Relationship       7.0   \n",
       "2     72.0          Paris, France         France          Married       5.0   \n",
       "3     65.0     Medina, Washington  United States         Divorced       3.0   \n",
       "4     36.0  Palo Alto, California  United States          Married       2.0   \n",
       "...    ...                    ...            ...              ...       ...   \n",
       "2750  49.0        Hangzhou, China          China              NaN       NaN   \n",
       "2751  65.0       Tongxiang, China          China              NaN       NaN   \n",
       "2752  58.0           Jilin, China          China              NaN       NaN   \n",
       "2753  58.0          Foshan, China          China              NaN       NaN   \n",
       "2754  54.0        Shanghai, China          China          Married       NaN   \n",
       "\n",
       "                                              Education Self_made  \\\n",
       "0        Bachelor of Arts/Science, Princeton University      True   \n",
       "1     Bachelor of Arts/Science, University of Pennsy...      True   \n",
       "2     Bachelor of Arts/Science, Ecole Polytechnique ...     False   \n",
       "3                          Drop Out, Harvard University      True   \n",
       "4                          Drop Out, Harvard University      True   \n",
       "...                                                 ...       ...   \n",
       "2750                                                NaN      True   \n",
       "2751                                                NaN      True   \n",
       "2752                                                NaN      True   \n",
       "2753                                                NaN      True   \n",
       "2754                                                NaN      True   \n",
       "\n",
       "                                   geometry  \n",
       "0           POINT (-122.3300624 47.6038321)  \n",
       "1     POINT (-97.74369950000001 30.2711286)  \n",
       "2              POINT (2.3514616 48.8566969)  \n",
       "3            POINT (-122.2264453 47.620548)  \n",
       "4           POINT (-122.1598465 37.4443293)  \n",
       "...                                     ...  \n",
       "2750         POINT (120.2052342 30.2489634)  \n",
       "2751         POINT (120.5610365 30.6316971)  \n",
       "2752         POINT (125.9816054 42.9995032)  \n",
       "2753         POINT (113.1146335 23.0247687)  \n",
       "2754         POINT (121.4692071 31.2322758)  \n",
       "\n",
       "[2755 rows x 13 columns]"
      ]
     },
     "execution_count": 7,
     "metadata": {},
     "output_type": "execute_result"
    }
   ],
   "source": [
    "Billionaires_data"
   ]
  },
  {
   "cell_type": "code",
   "execution_count": 8,
   "metadata": {},
   "outputs": [
    {
     "data": {
      "text/plain": [
       "(2755, 13)"
      ]
     },
     "execution_count": 8,
     "metadata": {},
     "output_type": "execute_result"
    }
   ],
   "source": [
    "Billionaires_data.shape"
   ]
  },
  {
   "cell_type": "markdown",
   "metadata": {},
   "source": [
    "Checking for missing values in our data set"
   ]
  },
  {
   "cell_type": "code",
   "execution_count": 9,
   "metadata": {},
   "outputs": [
    {
     "data": {
      "text/plain": [
       "Name              0\n",
       "NetWorth          0\n",
       "Country           0\n",
       "Source            0\n",
       "Rank              0\n",
       "Age             125\n",
       "Residence        40\n",
       "Citizenship      16\n",
       "Status          665\n",
       "Children       1203\n",
       "Education      1346\n",
       "Self_made        18\n",
       "geometry          0\n",
       "dtype: int64"
      ]
     },
     "execution_count": 9,
     "metadata": {},
     "output_type": "execute_result"
    }
   ],
   "source": [
    "pd.isnull(Billionaires_data).sum()"
   ]
  },
  {
   "cell_type": "code",
   "execution_count": 10,
   "metadata": {},
   "outputs": [],
   "source": [
    "# From this result we can see that Age,Residence,Citizenship,status,Children,Education and the selfmade have missing values.\n",
    "# And the Number of children and Education background of the billionares have the most missing values."
   ]
  },
  {
   "cell_type": "markdown",
   "metadata": {},
   "source": [
    "Filling the Missing Values"
   ]
  },
  {
   "cell_type": "markdown",
   "metadata": {},
   "source": [
    "Age"
   ]
  },
  {
   "cell_type": "code",
   "execution_count": 11,
   "metadata": {},
   "outputs": [
    {
     "data": {
      "text/plain": [
       "63.267300380228136"
      ]
     },
     "execution_count": 11,
     "metadata": {},
     "output_type": "execute_result"
    }
   ],
   "source": [
    "#filling the values of a age with the mean age\n",
    "Billionaires_data['Age'].mean()"
   ]
  },
  {
   "cell_type": "code",
   "execution_count": 12,
   "metadata": {},
   "outputs": [],
   "source": [
    "#checking missing value was sucessfilly filled\n",
    "Billionaires_data['Age'].fillna(Billionaires_data['Age'].mean(),inplace = True)"
   ]
  },
  {
   "cell_type": "code",
   "execution_count": 13,
   "metadata": {},
   "outputs": [
    {
     "data": {
      "text/plain": [
       "0"
      ]
     },
     "execution_count": 13,
     "metadata": {},
     "output_type": "execute_result"
    }
   ],
   "source": [
    "#zero output shows that there are no missing values\n",
    "Billionaires_data['Age'].isnull().sum()"
   ]
  },
  {
   "cell_type": "markdown",
   "metadata": {},
   "source": [
    "Residence"
   ]
  },
  {
   "cell_type": "code",
   "execution_count": 14,
   "metadata": {},
   "outputs": [
    {
     "data": {
      "text/plain": [
       "0    Beijing, China\n",
       "Name: Residence, dtype: object"
      ]
     },
     "execution_count": 14,
     "metadata": {},
     "output_type": "execute_result"
    }
   ],
   "source": [
    "#The missing values in the residence column are just 40.\n",
    "# checking for the mode(the most re-occuring value) in the residence column.\n",
    "Billionaires_data['Residence'].mode()"
   ]
  },
  {
   "cell_type": "code",
   "execution_count": 15,
   "metadata": {},
   "outputs": [],
   "source": [
    "# Filling the missing values with the mode(the most re-occuring value) which is 'Beijing, China in the residence column.\n",
    "Billionaires_data['Residence'].fillna('Beijing, China',inplace = True)"
   ]
  },
  {
   "cell_type": "code",
   "execution_count": 16,
   "metadata": {},
   "outputs": [
    {
     "data": {
      "text/plain": [
       "0"
      ]
     },
     "execution_count": 16,
     "metadata": {},
     "output_type": "execute_result"
    }
   ],
   "source": [
    "#confirming if there are still missing values in the residence column\n",
    "pd.isna(Billionaires_data['Residence']).sum()"
   ]
  },
  {
   "cell_type": "code",
   "execution_count": 18,
   "metadata": {},
   "outputs": [],
   "source": [
    "#Lets visualize this the number of missing values in a heatmap so we can see things more clearly"
   ]
  },
  {
   "cell_type": "code",
   "execution_count": 19,
   "metadata": {},
   "outputs": [
    {
     "data": {
      "text/plain": [
       "<AxesSubplot:>"
      ]
     },
     "execution_count": 19,
     "metadata": {},
     "output_type": "execute_result"
    },
    {
     "data": {
      "image/png": "[encoded data removed]",
      "text/plain": [
       "<Figure size 432x288 with 1 Axes>"
      ]
     },
     "metadata": {
      "needs_background": "light"
     },
     "output_type": "display_data"
    }
   ],
   "source": [
    "sns.heatmap(Billionaires_data.isnull(),cbar=False)"
   ]
  },
  {
   "cell_type": "markdown",
   "metadata": {},
   "source": [
    "Against index, we can see that:"
   ]
  },
  {
   "cell_type": "code",
   "execution_count": 20,
   "metadata": {},
   "outputs": [],
   "source": [
    "# Age column has missing values with variation in occurence,/\n",
    "# Status,Children and Education are almost filled with missing values and/\n",
    "# Self made has few missing values almost around its center."
   ]
  },
  {
   "cell_type": "code",
   "execution_count": null,
   "metadata": {},
   "outputs": [],
   "source": []
  }
 ],
 "metadata": {
  "kernelspec": {
   "display_name": "Python 3.8.10 64-bit",
   "language": "python",
   "name": "python3"
  },
  "language_info": {
   "codemirror_mode": {
    "name": "ipython",
    "version": 3
   },
   "file_extension": ".py",
   "mimetype": "text/x-python",
   "name": "python",
   "nbconvert_exporter": "python",
   "pygments_lexer": "ipython3",
   "version": "3.8.10"
  },
  "orig_nbformat": 4,
  "vscode": {
   "interpreter": {
    "hash": "916dbcbb3f70747c44a77c7bcd40155683ae19c65e1c03b4aa3499c5328201f1"
   }
  }
 },
 "nbformat": 4,
 "nbformat_minor": 2
}
